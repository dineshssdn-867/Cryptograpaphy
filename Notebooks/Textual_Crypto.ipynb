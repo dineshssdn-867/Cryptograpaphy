{
  "nbformat": 4,
  "nbformat_minor": 0,
  "metadata": {
    "colab": {
      "name": "Textual_Crypto.ipynb",
      "provenance": [],
      "authorship_tag": "ABX9TyMwZge6t//GxkB4I0qLS8dR",
      "include_colab_link": true
    },
    "kernelspec": {
      "name": "python3",
      "display_name": "Python 3"
    },
    "language_info": {
      "name": "python"
    }
  },
  "cells": [
    {
      "cell_type": "markdown",
      "metadata": {
        "id": "view-in-github",
        "colab_type": "text"
      },
      "source": [
        "<a href=\"https://colab.research.google.com/github/dineshssdn-867/Cryptograpaphy/blob/main/Notebooks/Textual_Crypto.ipynb\" target=\"_parent\"><img src=\"https://colab.research.google.com/assets/colab-badge.svg\" alt=\"Open In Colab\"/></a>"
      ]
    },
    {
      "cell_type": "code",
      "metadata": {
        "colab": {
          "base_uri": "https://localhost:8080/"
        },
        "id": "9V860xQP8EIk",
        "outputId": "82f5c54a-b51c-4495-db92-aad71c360e77"
      },
      "source": [
        "pip install numpy"
      ],
      "execution_count": null,
      "outputs": [
        {
          "output_type": "stream",
          "text": [
            "Requirement already satisfied: numpy in /usr/local/lib/python3.7/dist-packages (1.19.5)\n"
          ],
          "name": "stdout"
        }
      ]
    },
    {
      "cell_type": "code",
      "metadata": {
        "colab": {
          "base_uri": "https://localhost:8080/"
        },
        "id": "U4wQCFWw8OTK",
        "outputId": "de90a385-4f71-4689-9839-e70d0a157d4c"
      },
      "source": [
        "pip install sympy"
      ],
      "execution_count": null,
      "outputs": [
        {
          "output_type": "stream",
          "text": [
            "Requirement already satisfied: sympy in /usr/local/lib/python3.7/dist-packages (1.7.1)\n",
            "Requirement already satisfied: mpmath>=0.19 in /usr/local/lib/python3.7/dist-packages (from sympy) (1.2.1)\n"
          ],
          "name": "stdout"
        }
      ]
    },
    {
      "cell_type": "code",
      "metadata": {
        "colab": {
          "base_uri": "https://localhost:8080/"
        },
        "id": "QXEHfAvA731j",
        "outputId": "9ab71056-63a3-4e03-881d-a8279a5c7fa6"
      },
      "source": [
        "# Text Encryption and Decryption\n",
        "\n",
        "'''\n",
        "@author : Dinesh Nariani\n",
        "'''\n",
        "\n",
        "import numpy as np        #Install and import numpy\n",
        "import random\n",
        "import secrets\n",
        "import string\n",
        "\n",
        "# Function to encrypt string s using key (Password)\n",
        "def encrypt(s, password):\n",
        "    n = len(s)\n",
        "    # Generate plain text matrix\n",
        "    plain_text = np.arange(n).reshape(n, 1)\n",
        "    for i in range(0, n):\n",
        "        plain_text[i][0] = ord(s[i]) - ord('a')\n",
        "\n",
        "    # Generate key matrix\n",
        "    key = np.arange(n * n).reshape(n, n)\n",
        "    for i in range(0, n):\n",
        "        for j in range(0, n):\n",
        "            key[i][j] = ord(password[(n * i) + j]) - ord('a')\n",
        "\n",
        "    # encrypted matrix\n",
        "\n",
        "    encrypted_text = key.dot(plain_text)\n",
        "\n",
        "    # generate encrypted string\n",
        "    ans = \"\"\n",
        "    for i in range(0, n):\n",
        "        ans += chr((encrypted_text[i] % 26) + ord('a'))\n",
        "\n",
        "    return ans\n",
        "\n",
        "\n",
        "# Function to decrypt string s using key (Password)\n",
        "def decrypt(s, password):\n",
        "    n = len(s)\n",
        "    print(len(password))\n",
        "\n",
        "    # generate encrypted matrix\n",
        "    encrypted_text = np.arange(n).reshape(n, 1) \n",
        "    for i in range(0, n):\n",
        "        encrypted_text[i][0] = ord(s[i]) - ord('a') \n",
        "\n",
        "    # generate key matrix\n",
        "    key = np.arange(n * n).reshape(n, n)\n",
        "    for i in range(0, n):\n",
        "        for j in range(0, n):\n",
        "            key[i][j] = ord(password[(n * i) + j]) - ord('a')\n",
        "\n",
        "\n",
        "    key_inverse=np.linalg.inv(key)\n",
        "    #inverse_key=Matrix(key).inv_mod(26)\n",
        "    # np.inverse_key = np.array(inverse_key)\n",
        "    plain_text = key.dot(encrypted_text)\n",
        "\n",
        "\n",
        "    # generate plaintext string\n",
        "    ans = \"\"\n",
        "    for i in range(0, n):\n",
        "        ans += chr((plain_text[i] % 26) + ord('a'))\n",
        "\n",
        "    return ans\n",
        "\n",
        "\n",
        "# get choice\n",
        "print(\"Enter 1 for encryption\")\n",
        "print(\"Enter 2 for decryption\")\n",
        "a = int(input())\n",
        "\n",
        "if (a == 1):\n",
        "    # Encryption BEGINS\n",
        "    print(\"Enter string for encrypton(lowercase alphabtes):\")\n",
        "    s = str(input())                          #String to be encrypted\n",
        "    n = len(s)\n",
        "\n",
        "    password = ''.join(secrets.choice(string.ascii_lowercase)\n",
        "                                                  for i in range(0,n*n))\n",
        "    print(\"Your password is: \"+password)\n",
        "    if (len(password) != n * n):\n",
        "        print(\"Invalid length of string/password.\")            #Error if password is not n*n letter long\n",
        "        print(\"Password should be \" + str(n * n) + \" letters long\")\n",
        "\n",
        "    else:\n",
        "        encrypted_string = encrypt(s, password)                #Calling the function to perform encryption\n",
        "        print(\"The encrypted string is: \" + encrypted_string)\n",
        "\n",
        "if (a == 2):\n",
        "    # Decryption BEGINS\n",
        "    print(\"Enter string for decryption:\")                      #String to be decrypted\n",
        "    s = str(input())\n",
        "    n = len(s)\n",
        "    print(\"Enter password: \")                                 #Key/Password\n",
        "    password = str(input())\n",
        "\n",
        "    if (len(password) != n * n):\n",
        "        print(\"Invalid length of string.Please try again\")      #Error if password is not n*n letter long\n",
        "\n",
        "    else:\n",
        "        decrypted_string = decrypt(s, password)                 #Calling the function to perform decryption\n",
        "        print(\"The decrypted string is \" + decrypted_string)"
      ],
      "execution_count": null,
      "outputs": [
        {
          "output_type": "stream",
          "text": [
            "Enter 1 for encryption\n",
            "Enter 2 for decryption\n",
            "2\n",
            "Enter string for decryption:\n",
            "odcnse\n",
            "Enter password: \n",
            "wjgyzmyuxtnodlhrdixxplbhwlrowhxxmlyt\n",
            "36\n",
            "The decrypted string is nrgmta\n"
          ],
          "name": "stdout"
        }
      ]
    }
  ]
}